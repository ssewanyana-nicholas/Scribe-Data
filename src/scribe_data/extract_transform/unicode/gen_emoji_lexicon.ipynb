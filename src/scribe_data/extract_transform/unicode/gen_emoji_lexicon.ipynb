{
 "cells": [
  {
   "cell_type": "markdown",
   "id": "743abe55",
   "metadata": {
    "toc": true
   },
   "source": [
    "<h1>Table of Contents<span class=\"tocSkip\"></span></h1>\n",
    "<div class=\"toc\"><ul class=\"toc-item\"><li><span><a href=\"#Download-Latest-Unicode\" data-toc-modified-id=\"Download-Latest-Unicode-1\"><span class=\"toc-item-num\">1&nbsp;&nbsp;</span>Download Latest Unicode</a></span></li><li><span><a href=\"#Generate\" data-toc-modified-id=\"Generate-2\"><span class=\"toc-item-num\">2&nbsp;&nbsp;</span>Generate</a></span></li></ul></div>"
   ]
  },
  {
   "cell_type": "markdown",
   "id": "592e4b36",
   "metadata": {},
   "source": [
    "**Scribe Emoji Lexicon Generation**\n",
    "\n",
    "This notebook is used to run the functions found in Scribe-Data to create a corpus of words and the emojis that they can trigger as autosuggestions."
   ]
  },
  {
   "cell_type": "code",
   "execution_count": null,
   "id": "1c8c7a44",
   "metadata": {
    "ExecuteTime": {
     "end_time": "2023-04-17T15:56:07.443318Z",
     "start_time": "2023-04-17T15:56:07.346341Z"
    }
   },
   "outputs": [],
   "source": [
    "import os\n",
    "import sys\n",
    "import json\n",
    "\n",
    "from tqdm.auto import tqdm\n",
    "from IPython.display import display, HTML\n",
    "display(HTML(\"<style>.container { width:99% !important; }</style>\"))"
   ]
  },
  {
   "cell_type": "code",
   "execution_count": null,
   "id": "14a5bf58",
   "metadata": {
    "ExecuteTime": {
     "end_time": "2023-04-17T15:56:08.173851Z",
     "start_time": "2023-04-17T15:56:08.170092Z"
    }
   },
   "outputs": [],
   "source": [
    "pwd = os.path.dirname(os.path.realpath(\"gen_emoji_lexicon.ipynb\"))\n",
    "pwd = pwd.split(\"scribe_data\")[0]\n",
    "sys.path.append(pwd)"
   ]
  },
  {
   "cell_type": "code",
   "execution_count": null,
   "id": "9ca127ab",
   "metadata": {
    "ExecuteTime": {
     "end_time": "2023-04-17T15:56:08.443898Z",
     "start_time": "2023-04-17T15:56:08.411354Z"
    }
   },
   "outputs": [],
   "source": [
    "from scribe_data.extract_transform.process_unicode import gen_emoji_lexicon"
   ]
  },
  {
   "cell_type": "markdown",
   "id": "2add942e",
   "metadata": {},
   "source": [
    "# Download Latest Unicode"
   ]
  },
  {
   "cell_type": "code",
   "execution_count": null,
   "id": "8e166da1",
   "metadata": {
    "ExecuteTime": {
     "end_time": "2023-04-17T15:56:11.011379Z",
     "start_time": "2023-04-17T15:56:10.222952Z"
    }
   },
   "outputs": [],
   "source": [
    "%%bash\n",
    ". $HOME/.nvm/nvm.sh # Pick up the 'npm' command\n",
    "npm install"
   ]
  },
  {
   "cell_type": "markdown",
   "id": "6f5b3685",
   "metadata": {},
   "source": [
    "# Generate"
   ]
  },
  {
   "cell_type": "code",
   "execution_count": null,
   "id": "fe631670",
   "metadata": {
    "ExecuteTime": {
     "end_time": "2023-04-17T16:01:58.139588Z",
     "start_time": "2023-04-17T16:01:57.939635Z"
    }
   },
   "outputs": [],
   "source": [
    "# Languages: French, German, Italian, Portuguese, Russian, Spanish, Swedish\n",
    "language = \"French\"\n",
    "autosuggest_dict = gen_emoji_lexicon(\n",
    "    language=language,\n",
    "    num_emojis=None,\n",
    "    emojis_per_keyword=3,\n",
    "    ignore_keywords=None,\n",
    "    export_base_rank=False,\n",
    "    update_local_data=True,\n",
    "    verbose=True,\n",
    ")"
   ]
  },
  {
   "cell_type": "code",
   "execution_count": null,
   "id": "27d35fc8",
   "metadata": {},
   "outputs": [],
   "source": []
  }
 ],
 "metadata": {
  "kernelspec": {
   "display_name": "Python [conda env:scribe-data-dev] *",
   "language": "python",
   "name": "conda-env-scribe-data-dev-py"
  },
  "language_info": {
   "codemirror_mode": {
    "name": "ipython",
    "version": 3
   },
   "file_extension": ".py",
   "mimetype": "text/x-python",
   "name": "python",
   "nbconvert_exporter": "python",
   "pygments_lexer": "ipython3",
   "version": "3.9.16"
  },
  "toc": {
   "base_numbering": 1,
   "nav_menu": {},
   "number_sections": true,
   "sideBar": true,
   "skip_h1_title": false,
   "title_cell": "Table of Contents",
   "title_sidebar": "Contents",
   "toc_cell": true,
   "toc_position": {},
   "toc_section_display": true,
   "toc_window_display": false
  }
 },
 "nbformat": 4,
 "nbformat_minor": 5
}
